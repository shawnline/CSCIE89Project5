{
 "cells": [
  {
   "cell_type": "code",
   "execution_count": 65,
   "id": "72d49aaa-10e1-49b0-af81-c76ca4b9a1f1",
   "metadata": {},
   "outputs": [],
   "source": [
    "from keras.datasets import imdb\n",
    "from keras.preprocessing import sequence\n",
    "from keras.utils import pad_sequences\n",
    "from keras.models import Sequential\n",
    "from keras.layers import Embedding, LSTM, Dense, RepeatVector, TimeDistributed, Bidirectional, Input\n",
    "from tensorflow.keras.models import Model, Sequential\n",
    "\n",
    "import matplotlib.pyplot as plt\n",
    "\n",
    "import numpy as np\n",
    "\n",
    "from nltk.tokenize import word_tokenize\n",
    "\n",
    "from gensim.models import Word2Vec"
   ]
  },
  {
   "cell_type": "code",
   "execution_count": 66,
   "id": "f8dfbeac-6405-4c53-86e6-09d918dc4049",
   "metadata": {},
   "outputs": [],
   "source": [
    "max_features = 10000 # Top 10,000 words\n",
    "maxlen = 200 # First 200 words of each review"
   ]
  },
  {
   "cell_type": "code",
   "execution_count": 67,
   "id": "0120f48f-d2c2-4797-9764-e80fe253d125",
   "metadata": {},
   "outputs": [],
   "source": [
    "(X_train, y_train), (X_test, y_test) = imdb.load_data(num_words=max_features)\n",
    "X_train = pad_sequences(X_train, maxlen=maxlen, padding=\"post\")\n",
    "X_test = pad_sequences(X_test, maxlen=maxlen, padding=\"post\")"
   ]
  },
  {
   "cell_type": "markdown",
   "id": "a1264d94-a704-4333-bac2-1e953a84d045",
   "metadata": {},
   "source": [
    "### NOTE\n",
    "If you are using GPU, LSTM needs a tanh activation or it will not be compliant with cuDNN. This results in incredible slow training. CPU epochs were > 5 min while GPU epochs are < 30 seconds"
   ]
  },
  {
   "cell_type": "code",
   "execution_count": 75,
   "id": "41b28a02-3621-48ee-8d47-7adaf11a58be",
   "metadata": {
    "ExecuteTime": {
     "end_time": "2024-10-28T15:20:43.921439Z",
     "start_time": "2024-10-28T15:20:43.812627Z"
    },
    "scrolled": true
   },
   "outputs": [
    {
     "data": {
      "text/html": [
       "<pre style=\"white-space:pre;overflow-x:auto;line-height:normal;font-family:Menlo,'DejaVu Sans Mono',consolas,'Courier New',monospace\"><span style=\"font-weight: bold\">Model: \"functional_8\"</span>\n",
       "</pre>\n"
      ],
      "text/plain": [
       "\u001b[1mModel: \"functional_8\"\u001b[0m\n"
      ]
     },
     "metadata": {},
     "output_type": "display_data"
    },
    {
     "data": {
      "text/html": [
       "<pre style=\"white-space:pre;overflow-x:auto;line-height:normal;font-family:Menlo,'DejaVu Sans Mono',consolas,'Courier New',monospace\">┏━━━━━━━━━━━━━━━━━━━━━━━━━━━━━━━━━┳━━━━━━━━━━━━━━━━━━━━━━━━┳━━━━━━━━━━━━━━━┓\n",
       "┃<span style=\"font-weight: bold\"> Layer (type)                    </span>┃<span style=\"font-weight: bold\"> Output Shape           </span>┃<span style=\"font-weight: bold\">       Param # </span>┃\n",
       "┡━━━━━━━━━━━━━━━━━━━━━━━━━━━━━━━━━╇━━━━━━━━━━━━━━━━━━━━━━━━╇━━━━━━━━━━━━━━━┩\n",
       "│ input_layer_9 (<span style=\"color: #0087ff; text-decoration-color: #0087ff\">InputLayer</span>)      │ (<span style=\"color: #00d7ff; text-decoration-color: #00d7ff\">None</span>, <span style=\"color: #00af00; text-decoration-color: #00af00\">200</span>)            │             <span style=\"color: #00af00; text-decoration-color: #00af00\">0</span> │\n",
       "├─────────────────────────────────┼────────────────────────┼───────────────┤\n",
       "│ embedding_9 (<span style=\"color: #0087ff; text-decoration-color: #0087ff\">Embedding</span>)         │ (<span style=\"color: #00d7ff; text-decoration-color: #00d7ff\">None</span>, <span style=\"color: #00af00; text-decoration-color: #00af00\">200</span>, <span style=\"color: #00af00; text-decoration-color: #00af00\">8</span>)         │        <span style=\"color: #00af00; text-decoration-color: #00af00\">80,000</span> │\n",
       "├─────────────────────────────────┼────────────────────────┼───────────────┤\n",
       "│ lstm_8 (<span style=\"color: #0087ff; text-decoration-color: #0087ff\">LSTM</span>)                   │ (<span style=\"color: #00d7ff; text-decoration-color: #00d7ff\">None</span>, <span style=\"color: #00af00; text-decoration-color: #00af00\">200</span>, <span style=\"color: #00af00; text-decoration-color: #00af00\">64</span>)        │        <span style=\"color: #00af00; text-decoration-color: #00af00\">18,688</span> │\n",
       "├─────────────────────────────────┼────────────────────────┼───────────────┤\n",
       "│ time_distributed_8              │ (<span style=\"color: #00d7ff; text-decoration-color: #00d7ff\">None</span>, <span style=\"color: #00af00; text-decoration-color: #00af00\">200</span>, <span style=\"color: #00af00; text-decoration-color: #00af00\">10000</span>)     │       <span style=\"color: #00af00; text-decoration-color: #00af00\">650,000</span> │\n",
       "│ (<span style=\"color: #0087ff; text-decoration-color: #0087ff\">TimeDistributed</span>)               │                        │               │\n",
       "└─────────────────────────────────┴────────────────────────┴───────────────┘\n",
       "</pre>\n"
      ],
      "text/plain": [
       "┏━━━━━━━━━━━━━━━━━━━━━━━━━━━━━━━━━┳━━━━━━━━━━━━━━━━━━━━━━━━┳━━━━━━━━━━━━━━━┓\n",
       "┃\u001b[1m \u001b[0m\u001b[1mLayer (type)                   \u001b[0m\u001b[1m \u001b[0m┃\u001b[1m \u001b[0m\u001b[1mOutput Shape          \u001b[0m\u001b[1m \u001b[0m┃\u001b[1m \u001b[0m\u001b[1m      Param #\u001b[0m\u001b[1m \u001b[0m┃\n",
       "┡━━━━━━━━━━━━━━━━━━━━━━━━━━━━━━━━━╇━━━━━━━━━━━━━━━━━━━━━━━━╇━━━━━━━━━━━━━━━┩\n",
       "│ input_layer_9 (\u001b[38;5;33mInputLayer\u001b[0m)      │ (\u001b[38;5;45mNone\u001b[0m, \u001b[38;5;34m200\u001b[0m)            │             \u001b[38;5;34m0\u001b[0m │\n",
       "├─────────────────────────────────┼────────────────────────┼───────────────┤\n",
       "│ embedding_9 (\u001b[38;5;33mEmbedding\u001b[0m)         │ (\u001b[38;5;45mNone\u001b[0m, \u001b[38;5;34m200\u001b[0m, \u001b[38;5;34m8\u001b[0m)         │        \u001b[38;5;34m80,000\u001b[0m │\n",
       "├─────────────────────────────────┼────────────────────────┼───────────────┤\n",
       "│ lstm_8 (\u001b[38;5;33mLSTM\u001b[0m)                   │ (\u001b[38;5;45mNone\u001b[0m, \u001b[38;5;34m200\u001b[0m, \u001b[38;5;34m64\u001b[0m)        │        \u001b[38;5;34m18,688\u001b[0m │\n",
       "├─────────────────────────────────┼────────────────────────┼───────────────┤\n",
       "│ time_distributed_8              │ (\u001b[38;5;45mNone\u001b[0m, \u001b[38;5;34m200\u001b[0m, \u001b[38;5;34m10000\u001b[0m)     │       \u001b[38;5;34m650,000\u001b[0m │\n",
       "│ (\u001b[38;5;33mTimeDistributed\u001b[0m)               │                        │               │\n",
       "└─────────────────────────────────┴────────────────────────┴───────────────┘\n"
      ]
     },
     "metadata": {},
     "output_type": "display_data"
    },
    {
     "data": {
      "text/html": [
       "<pre style=\"white-space:pre;overflow-x:auto;line-height:normal;font-family:Menlo,'DejaVu Sans Mono',consolas,'Courier New',monospace\"><span style=\"font-weight: bold\"> Total params: </span><span style=\"color: #00af00; text-decoration-color: #00af00\">748,688</span> (2.86 MB)\n",
       "</pre>\n"
      ],
      "text/plain": [
       "\u001b[1m Total params: \u001b[0m\u001b[38;5;34m748,688\u001b[0m (2.86 MB)\n"
      ]
     },
     "metadata": {},
     "output_type": "display_data"
    },
    {
     "data": {
      "text/html": [
       "<pre style=\"white-space:pre;overflow-x:auto;line-height:normal;font-family:Menlo,'DejaVu Sans Mono',consolas,'Courier New',monospace\"><span style=\"font-weight: bold\"> Trainable params: </span><span style=\"color: #00af00; text-decoration-color: #00af00\">748,688</span> (2.86 MB)\n",
       "</pre>\n"
      ],
      "text/plain": [
       "\u001b[1m Trainable params: \u001b[0m\u001b[38;5;34m748,688\u001b[0m (2.86 MB)\n"
      ]
     },
     "metadata": {},
     "output_type": "display_data"
    },
    {
     "data": {
      "text/html": [
       "<pre style=\"white-space:pre;overflow-x:auto;line-height:normal;font-family:Menlo,'DejaVu Sans Mono',consolas,'Courier New',monospace\"><span style=\"font-weight: bold\"> Non-trainable params: </span><span style=\"color: #00af00; text-decoration-color: #00af00\">0</span> (0.00 B)\n",
       "</pre>\n"
      ],
      "text/plain": [
       "\u001b[1m Non-trainable params: \u001b[0m\u001b[38;5;34m0\u001b[0m (0.00 B)\n"
      ]
     },
     "metadata": {},
     "output_type": "display_data"
    }
   ],
   "source": [
    "embedding_dim = 8\n",
    "\n",
    "input_layer = Input(shape=(maxlen,))\n",
    "embedding_layer = Embedding(input_dim=max_features, output_dim=embedding_dim, input_length=maxlen)(input_layer)\n",
    "\n",
    "encoded = LSTM(64, return_sequences=True)(embedding_layer)\n",
    "decoded = TimeDistributed(Dense(max_features, activation='softmax'))(encoded)\n",
    "\n",
    "autoencoder = Model(inputs=input_layer, outputs=decoded)\n",
    "autoencoder.compile(optimizer='adam', loss='sparse_categorical_crossentropy')\n",
    "\n",
    "autoencoder.summary()"
   ]
  },
  {
   "cell_type": "code",
   "execution_count": 76,
   "id": "d6b1df58-a4c0-483d-b1cd-096d5f01d4ba",
   "metadata": {
    "scrolled": true
   },
   "outputs": [
    {
     "name": "stdout",
     "output_type": "stream",
     "text": [
      "Epoch 1/15\n",
      "\u001b[1m157/157\u001b[0m \u001b[32m━━━━━━━━━━━━━━━━━━━━\u001b[0m\u001b[37m\u001b[0m \u001b[1m46s\u001b[0m 249ms/step - loss: 7.4754 - val_loss: 5.4310\n",
      "Epoch 2/15\n",
      "\u001b[1m157/157\u001b[0m \u001b[32m━━━━━━━━━━━━━━━━━━━━\u001b[0m\u001b[37m\u001b[0m \u001b[1m38s\u001b[0m 241ms/step - loss: 5.2230 - val_loss: 4.9424\n",
      "Epoch 3/15\n",
      "\u001b[1m157/157\u001b[0m \u001b[32m━━━━━━━━━━━━━━━━━━━━\u001b[0m\u001b[37m\u001b[0m \u001b[1m38s\u001b[0m 242ms/step - loss: 4.8598 - val_loss: 4.6349\n",
      "Epoch 4/15\n",
      "\u001b[1m157/157\u001b[0m \u001b[32m━━━━━━━━━━━━━━━━━━━━\u001b[0m\u001b[37m\u001b[0m \u001b[1m38s\u001b[0m 243ms/step - loss: 4.5364 - val_loss: 4.2574\n",
      "Epoch 5/15\n",
      "\u001b[1m157/157\u001b[0m \u001b[32m━━━━━━━━━━━━━━━━━━━━\u001b[0m\u001b[37m\u001b[0m \u001b[1m38s\u001b[0m 243ms/step - loss: 4.1348 - val_loss: 3.8606\n",
      "Epoch 6/15\n",
      "\u001b[1m157/157\u001b[0m \u001b[32m━━━━━━━━━━━━━━━━━━━━\u001b[0m\u001b[37m\u001b[0m \u001b[1m38s\u001b[0m 243ms/step - loss: 3.7253 - val_loss: 3.4643\n",
      "Epoch 7/15\n",
      "\u001b[1m157/157\u001b[0m \u001b[32m━━━━━━━━━━━━━━━━━━━━\u001b[0m\u001b[37m\u001b[0m \u001b[1m38s\u001b[0m 244ms/step - loss: 3.3490 - val_loss: 3.0799\n",
      "Epoch 8/15\n",
      "\u001b[1m157/157\u001b[0m \u001b[32m━━━━━━━━━━━━━━━━━━━━\u001b[0m\u001b[37m\u001b[0m \u001b[1m38s\u001b[0m 244ms/step - loss: 2.9640 - val_loss: 2.6845\n",
      "Epoch 9/15\n",
      "\u001b[1m157/157\u001b[0m \u001b[32m━━━━━━━━━━━━━━━━━━━━\u001b[0m\u001b[37m\u001b[0m \u001b[1m38s\u001b[0m 244ms/step - loss: 2.5729 - val_loss: 2.3316\n",
      "Epoch 10/15\n",
      "\u001b[1m157/157\u001b[0m \u001b[32m━━━━━━━━━━━━━━━━━━━━\u001b[0m\u001b[37m\u001b[0m \u001b[1m38s\u001b[0m 244ms/step - loss: 2.2359 - val_loss: 2.0428\n",
      "Epoch 11/15\n",
      "\u001b[1m157/157\u001b[0m \u001b[32m━━━━━━━━━━━━━━━━━━━━\u001b[0m\u001b[37m\u001b[0m \u001b[1m38s\u001b[0m 244ms/step - loss: 1.9671 - val_loss: 1.8018\n",
      "Epoch 12/15\n",
      "\u001b[1m157/157\u001b[0m \u001b[32m━━━━━━━━━━━━━━━━━━━━\u001b[0m\u001b[37m\u001b[0m \u001b[1m38s\u001b[0m 244ms/step - loss: 1.7439 - val_loss: 1.6153\n",
      "Epoch 13/15\n",
      "\u001b[1m157/157\u001b[0m \u001b[32m━━━━━━━━━━━━━━━━━━━━\u001b[0m\u001b[37m\u001b[0m \u001b[1m38s\u001b[0m 244ms/step - loss: 1.5653 - val_loss: 1.4697\n",
      "Epoch 14/15\n",
      "\u001b[1m157/157\u001b[0m \u001b[32m━━━━━━━━━━━━━━━━━━━━\u001b[0m\u001b[37m\u001b[0m \u001b[1m38s\u001b[0m 244ms/step - loss: 1.4197 - val_loss: 1.3514\n",
      "Epoch 15/15\n",
      "\u001b[1m157/157\u001b[0m \u001b[32m━━━━━━━━━━━━━━━━━━━━\u001b[0m\u001b[37m\u001b[0m \u001b[1m38s\u001b[0m 244ms/step - loss: 1.3161 - val_loss: 1.2488\n"
     ]
    }
   ],
   "source": [
    "history = autoencoder.fit(\n",
    "    X_train,\n",
    "    X_train,\n",
    "    epochs=15,\n",
    "    batch_size=128,\n",
    "    validation_split=0.2,\n",
    "    verbose=1\n",
    ")"
   ]
  },
  {
   "cell_type": "code",
   "execution_count": 77,
   "id": "5d4f128e-43e2-4352-906a-8f1264a63b9e",
   "metadata": {
    "scrolled": true
   },
   "outputs": [
    {
     "data": {
      "image/png": "[encoded data removed]",
      "text/plain": [
       "<Figure size 640x480 with 1 Axes>"
      ]
     },
     "metadata": {},
     "output_type": "display_data"
    }
   ],
   "source": [
    "# Plot Training and Validation Loss\n",
    "plt.plot(history.history['loss'], label='Training Loss')\n",
    "plt.plot(history.history['val_loss'], label='Validation Loss')\n",
    "plt.xlabel('Epochs')\n",
    "plt.ylabel('Loss')\n",
    "plt.legend()\n",
    "plt.title('Training and Validation Loss')\n",
    "plt.show()"
   ]
  },
  {
   "cell_type": "code",
   "execution_count": 78,
   "id": "184d9bc7-cfb2-4e0d-bc3d-9b6e7a016b48",
   "metadata": {},
   "outputs": [
    {
     "name": "stdout",
     "output_type": "stream",
     "text": [
      "Original Review:\n",
      "what can i say about twelve who thought that it would ever come to this a gigantic mess that loses itself halfway and can't i found myself amazed at how bad this really was really i have never seen the ending properly because this film is just i'm a huge fan of the first but this is a lame excuse for a sequel br br what was the point of the heist if they were going to give the money back the movie is just boring and so drag along that i can't ever sit through this it really is bad just stay as far repeat far away as possible from this movie it's worthless\n",
      "\n",
      "Reconstructed Review:\n",
      "what can i say about who thought that it would ever come to this a several that plan itself and can't i found myself let at how bad this really was really i have never seen the ending itself because this film is just i'm a 7 fan of the first but this is a none manages for a early br br what was the point of the if they were going to give the money back the movie is just boring and so student along that i can't ever sort through this it really is bad just started as far let far away as possible from this movie it's except\n",
      "\n",
      "==================================================\n",
      "\n",
      "Original Review:\n",
      "is above all a masterpiece of widescreen cinematography for this alone the film is well worth one's time the stark wide open and of eastern montana are captured in the spare muted earth tones of or early spring the gigantic grey peck is the film's protagonist the film comments both subtly and not so subtly on about a dozen issues of western landscape the dialogue can be trying at times yet the images and concepts are powerful enough to lift the film the 1950's period works so well here and is executed so well i think that the passing years will be kind to this film\n",
      "\n",
      "Reconstructed Review:\n",
      "is above all a usual of and cinematography for this alone the film is well worth award time the sci known and of are redeeming in the hours earth of or early the season is the heart dimensional the film comments both and and not so on about a mix value of oscar school the dialogue can be trying at times yet the non and are beyond enough to and the film the late works so well here and is stuck so well i think that the justice years will be kind to this film\n",
      "\n",
      "==================================================\n",
      "\n",
      "Original Review:\n",
      "makes no apologies asks for no forgiveness it's a no holds assault on the senses tarantino doesn't care if he if he steps all over stereotypes and clichés this is film making at it it's great to see a film maker whose work clearly isn't with by the powers that be tarantino is a master of effortlessly up immense tension and suddenly mixing it with laugh out loud moments you're not sure if you should be looking away in disgust or rolling around laughing either way it's a roller coaster and one not to be missed it's not for everyone and i'm unsure how germans will take the film certainly if you're not a fan of style this may be a little hard to swallow but never the less it is a film which simply has to be seen no self film fan should miss this and the performance of oscar don't you dare ignore him\n",
      "\n",
      "Reconstructed Review:\n",
      "makes no himself for no it's a no agree on the and except doesn't care if he if he school all over named and moves this is film making at it it's great to see a film school whose work clearly isn't with by the that be except is a sci of and up beauty and unlike and it with laugh out loud moments you're not sure if you should be looking away in home or around laughing either way it's a and one not to be able it's not for everyone and i'm how and will take the film certainly if you're not a fan of style this may be a little hard to and but never the less it is a film which simply has to be seen no self film fan should highly this and the performance of oscar don't you superior hurt him\n",
      "\n",
      "==================================================\n",
      "\n",
      "Original Review:\n",
      "were supposed to be the camera in car aspect was quite cool actually but they didn't even used the environment to inspire fear or dread they left that to cheap sound and video fx and the three infected characters the movie becomes boring in so many scenes 3 sound talk about editing this movie has no problems in showing how edited it was from computer sounds imitating the forest animals to the alien dialog ah br br so what did i like in the movie spoilers the only thing i really liked and it was actually quite scary was the succession of two scenes where the car is still and you spot something someone walking in a distant at first i really thought it was me seeing things but when the character realizes that the figures coming towards her were her own reflection i was surprised pretty creepy idea done well apart from that i had an awful time br br and i don't recommend this to anyone not even teen get together because you can't even laugh at this br br i give it a solid 2 only some technical achievements worked here apart from that yeah nothing\n",
      "\n",
      "Reconstructed Review:\n",
      "are supposed to be the camera in car manages was quite cool actually but they didn't even used the etc to home elements or they left that to several sound and video school and the three characters the movie becomes boring in so many scenes 3 sound talk about points this movie has no problems in showing how it was from co sounds the science to the joe blood season br br so what did i like in the movie whose the only thing i really liked and it was actually quite scary was the of two scenes where the car is still and you important something someone whom in a at first i really thought it was me seeing things but when the character along that the coming turns her were her own i was example pretty suspense idea done well apart from that i had an awful time br br and i don't recommend this to anyone not even get together because you can't even laugh at this br br i give it a beyond 2 only some fast able here annoying from that wrote nothing\n",
      "\n",
      "==================================================\n",
      "\n",
      "Original Review:\n",
      "you it wasn't it was butchered like that poor family example in the script truman shawn adorable one here he is mr shawn br br bad enough the amateurs behind this movie de flame capote and bash his circle are we to really believe they thought so little of they her little like an obnoxious in joke they turn perry smith into this oh so sensitive victim even as he's shown the it's one thing to the facts it's another to drop the ball the were carried out between 12 45 1 19 am april 14 truman is shown at the prison 22 hours later br br i was totally by the acting doesn't even try to sound like an native the way cooper kept shouting alvin i was waiting for the to show up hoffman gives us not the charming but a pathetic suck up who sees an horrific act as his ticket to the big time when hoffman about being tortured by the endless appeals i wanted to give him a shotgun so he could do us both a favor and blow his brains out\n",
      "\n",
      "Reconstructed Review:\n",
      "you it wasn't it was like that poor family example in the script one here he is mr br br bad enough the behind this movie michael season and his and are we to really believe they thought so little of they her little like an stuck in usual they turn turns into this oh so dimensional fast even as he's shown the it's one thing to the award it's another to justice the g the were home out between justice 1 home am home is shown at the brother season hours later br br i was totally by the acting doesn't even try to sound like an stuck the way filmed i was important for the to show up gives us not the stand but a doubt guys up who appeal an member act as his etc to the big time when about being by the decides i won't to give him a so he could do us both a sort and unnecessary his expectations out\n",
      "\n",
      "==================================================\n",
      "\n"
     ]
    }
   ],
   "source": [
    "import random\n",
    "# Display Original and Reconstructed Reviews\n",
    "# Function to convert sequences to words using IMDb word index\n",
    "word_index = imdb.get_word_index()\n",
    "index_word = {v: k for k, v in word_index.items()}\n",
    "\n",
    "def sequence_to_text(sequence):\n",
    "    return ' '.join([index_word.get(i - 3, '?') for i in sequence if i > 2])\n",
    "\n",
    "n = 5  # Number of test reviews to show\n",
    "x_test_rand = X_test[np.random.choice(X_test.shape[0], n, replace=False)]\n",
    "reconstructions = autoencoder(x_test_rand)\n",
    "\n",
    "# Display Original and Reconstructed Reviews\n",
    "for i in range(len(reconstructions)):\n",
    "    print(\"Original Review:\")\n",
    "    print(sequence_to_text(x_test_rand[i]))\n",
    "    print(\"\\nReconstructed Review:\")\n",
    "    print(sequence_to_text(np.argmax(reconstructions[i], axis=1)))\n",
    "    print(\"\\n\" + \"=\"*50 + \"\\n\")"
   ]
  },
  {
   "cell_type": "code",
   "execution_count": 79,
   "id": "cfdaa7ad-7165-44f1-97c5-6394997e6294",
   "metadata": {},
   "outputs": [
    {
     "data": {
      "text/plain": [
       "5"
      ]
     },
     "execution_count": 79,
     "metadata": {},
     "output_type": "execute_result"
    }
   ],
   "source": [
    "len(reconstructions)"
   ]
  },
  {
   "cell_type": "markdown",
   "id": "6346522c-0baa-422d-af34-25d40f9b4d1d",
   "metadata": {},
   "source": [
    "# Word2Vec instead of Keras Embedding Layer"
   ]
  },
  {
   "cell_type": "code",
   "execution_count": 8,
   "id": "61b2f7f6-61fd-435b-b5f9-61913c015ebe",
   "metadata": {},
   "outputs": [],
   "source": [
    "word_index = imdb.get_word_index()\n",
    "reverse_word_index = dict([(value, key) for (key, value) in word_index.items()])\n",
    "\n",
    "def decode_review(encoded_review):\n",
    "    return ' '.join([reverse_word_index.get(i - 3, '?') for i in encoded_review])\n",
    "\n",
    "# Decode all the reviews in both training and test data\n",
    "train_data_text = [decode_review(review) for review in X_train]\n",
    "test_data_text = [decode_review(review) for review in X_test]"
   ]
  },
  {
   "cell_type": "code",
   "execution_count": 9,
   "id": "77ceab23-9264-435a-9ee6-388a0469cf86",
   "metadata": {},
   "outputs": [
    {
     "name": "stdout",
     "output_type": "stream",
     "text": [
      "25000\n",
      "and you could just imagine being there robert ? is an amazing actor and now the same being director ? father came from the same scottish island as myself so i loved the fact there was a real connection with this film the witty remarks throughout the film were great it was just brilliant so much that i bought the film as soon as it was released for ? and would recommend it to everyone to watch and the fly fishing was amazing really cried at the end it was so sad and you know what they say if you cry at a film it must have been good and this definitely was also ? to the two little boy's that played the ? of norman and paul they were just brilliant children are often left out of the ? list i think because the stars that play them all grown up are such a big profile for the whole film but these children are amazing and should be praised for what they have done don't you think the whole story was so lovely because it was true and was someone's life after all that was shared with us all\n"
     ]
    }
   ],
   "source": [
    "print(len(train_data_text))\n",
    "print(train_data_text[0])"
   ]
  },
  {
   "cell_type": "code",
   "execution_count": 10,
   "id": "42204df2-6c77-4090-b91e-f183017196ea",
   "metadata": {},
   "outputs": [],
   "source": [
    "def preprocess_text(text):\n",
    "    # Tokenize the text\n",
    "    tokens = word_tokenize(text.lower())  # Convert text to lowercase\n",
    "    return(tokens)\n",
    "    \n",
    "train_text_tokens = [preprocess_text(review) for review in train_data_text]\n",
    "test_text_tokens = [preprocess_text(review) for review in test_data_text]"
   ]
  },
  {
   "cell_type": "markdown",
   "id": "0bbab520-233c-480d-9a6a-30875c4850cc",
   "metadata": {},
   "source": [
    "### Pretraining a Word2Vec model"
   ]
  },
  {
   "cell_type": "code",
   "execution_count": 11,
   "id": "8a48ea50-45ac-4bf8-b2f8-857e86beda98",
   "metadata": {},
   "outputs": [],
   "source": [
    "word2vec_model = Word2Vec(train_text_tokens, vector_size=embedding_dim, window=5, min_count=3, workers=4, epochs=10)\n",
    "\n",
    "# Prepare embedding matrix using Word2Vec vectors\n",
    "embedding_matrix = np.zeros((max_features, embedding_dim))\n",
    "for word, i in word_index.items():\n",
    "    if i < max_features:\n",
    "        embedding_vector = word2vec_model.wv.get_vector(word) if word in word2vec_model.wv else None\n",
    "        if embedding_vector is not None:\n",
    "            embedding_matrix[i] = embedding_vector"
   ]
  },
  {
   "cell_type": "markdown",
   "id": "77bb74ce-ed28-40a8-a67c-7c6ad09e221b",
   "metadata": {},
   "source": [
    "### Inserting the word2vec model weights into the embedding layer\n",
    "Here we set trainable=False because we have already trained the word2vec model above"
   ]
  },
  {
   "cell_type": "code",
   "execution_count": 12,
   "id": "69da47b3-b930-495b-a23f-f04ac802f826",
   "metadata": {},
   "outputs": [
    {
     "ename": "ValueError",
     "evalue": "Layer embedding_1 weight shape (10000, 4) is not compatible with provided weight shape (10000, 64).",
     "output_type": "error",
     "traceback": [
      "\u001b[0;31m---------------------------------------------------------------------------\u001b[0m",
      "\u001b[0;31mValueError\u001b[0m                                Traceback (most recent call last)",
      "Cell \u001b[0;32mIn[12], line 4\u001b[0m\n\u001b[1;32m      1\u001b[0m embedding_dim \u001b[38;5;241m=\u001b[39m \u001b[38;5;241m4\u001b[39m\n\u001b[1;32m      3\u001b[0m input_layer \u001b[38;5;241m=\u001b[39m Input(shape\u001b[38;5;241m=\u001b[39m(maxlen,))\n\u001b[0;32m----> 4\u001b[0m embedding_layer \u001b[38;5;241m=\u001b[39m \u001b[43mEmbedding\u001b[49m\u001b[43m(\u001b[49m\u001b[43minput_dim\u001b[49m\u001b[38;5;241;43m=\u001b[39;49m\u001b[43mmax_features\u001b[49m\u001b[43m,\u001b[49m\u001b[43m \u001b[49m\u001b[43moutput_dim\u001b[49m\u001b[38;5;241;43m=\u001b[39;49m\u001b[43membedding_dim\u001b[49m\u001b[43m,\u001b[49m\u001b[43m \u001b[49m\u001b[43minput_length\u001b[49m\u001b[38;5;241;43m=\u001b[39;49m\u001b[43mmaxlen\u001b[49m\u001b[43m,\u001b[49m\u001b[43m \u001b[49m\u001b[43mweights\u001b[49m\u001b[38;5;241;43m=\u001b[39;49m\u001b[43m[\u001b[49m\u001b[43membedding_matrix\u001b[49m\u001b[43m]\u001b[49m\u001b[43m,\u001b[49m\u001b[43m \u001b[49m\u001b[43mtrainable\u001b[49m\u001b[38;5;241;43m=\u001b[39;49m\u001b[38;5;28;43;01mFalse\u001b[39;49;00m\u001b[43m)\u001b[49m(input_layer)\n\u001b[1;32m      6\u001b[0m encoded \u001b[38;5;241m=\u001b[39m LSTM(\u001b[38;5;241m16\u001b[39m, return_sequences\u001b[38;5;241m=\u001b[39m\u001b[38;5;28;01mTrue\u001b[39;00m)(embedding_layer)\n\u001b[1;32m      7\u001b[0m decoded \u001b[38;5;241m=\u001b[39m TimeDistributed(Dense(max_features, activation\u001b[38;5;241m=\u001b[39m\u001b[38;5;124m'\u001b[39m\u001b[38;5;124msoftmax\u001b[39m\u001b[38;5;124m'\u001b[39m))(encoded)\n",
      "File \u001b[0;32m~/Documents/CSCIE89Project3/venv/lib/python3.12/site-packages/keras/src/layers/core/embedding.py:109\u001b[0m, in \u001b[0;36mEmbedding.__init__\u001b[0;34m(self, input_dim, output_dim, embeddings_initializer, embeddings_regularizer, embeddings_constraint, mask_zero, weights, lora_rank, **kwargs)\u001b[0m\n\u001b[1;32m    107\u001b[0m \u001b[38;5;28;01mif\u001b[39;00m \u001b[38;5;129;01mnot\u001b[39;00m (\u001b[38;5;28misinstance\u001b[39m(weights, \u001b[38;5;28mlist\u001b[39m) \u001b[38;5;129;01mand\u001b[39;00m \u001b[38;5;28mlen\u001b[39m(weights) \u001b[38;5;241m==\u001b[39m \u001b[38;5;241m1\u001b[39m):\n\u001b[1;32m    108\u001b[0m     weights \u001b[38;5;241m=\u001b[39m [weights]\n\u001b[0;32m--> 109\u001b[0m \u001b[38;5;28;43mself\u001b[39;49m\u001b[38;5;241;43m.\u001b[39;49m\u001b[43mset_weights\u001b[49m\u001b[43m(\u001b[49m\u001b[43mweights\u001b[49m\u001b[43m)\u001b[49m\n",
      "File \u001b[0;32m~/Documents/CSCIE89Project3/venv/lib/python3.12/site-packages/keras/src/layers/layer.py:703\u001b[0m, in \u001b[0;36mLayer.set_weights\u001b[0;34m(self, weights)\u001b[0m\n\u001b[1;32m    701\u001b[0m \u001b[38;5;28;01mfor\u001b[39;00m variable, value \u001b[38;5;129;01min\u001b[39;00m \u001b[38;5;28mzip\u001b[39m(layer_weights, weights):\n\u001b[1;32m    702\u001b[0m     \u001b[38;5;28;01mif\u001b[39;00m variable\u001b[38;5;241m.\u001b[39mshape \u001b[38;5;241m!=\u001b[39m value\u001b[38;5;241m.\u001b[39mshape:\n\u001b[0;32m--> 703\u001b[0m         \u001b[38;5;28;01mraise\u001b[39;00m \u001b[38;5;167;01mValueError\u001b[39;00m(\n\u001b[1;32m    704\u001b[0m             \u001b[38;5;124mf\u001b[39m\u001b[38;5;124m\"\u001b[39m\u001b[38;5;124mLayer \u001b[39m\u001b[38;5;132;01m{\u001b[39;00m\u001b[38;5;28mself\u001b[39m\u001b[38;5;241m.\u001b[39mname\u001b[38;5;132;01m}\u001b[39;00m\u001b[38;5;124m weight shape \u001b[39m\u001b[38;5;132;01m{\u001b[39;00mvariable\u001b[38;5;241m.\u001b[39mshape\u001b[38;5;132;01m}\u001b[39;00m\u001b[38;5;124m \u001b[39m\u001b[38;5;124m\"\u001b[39m\n\u001b[1;32m    705\u001b[0m             \u001b[38;5;124m\"\u001b[39m\u001b[38;5;124mis not compatible with provided weight \u001b[39m\u001b[38;5;124m\"\u001b[39m\n\u001b[1;32m    706\u001b[0m             \u001b[38;5;124mf\u001b[39m\u001b[38;5;124m\"\u001b[39m\u001b[38;5;124mshape \u001b[39m\u001b[38;5;132;01m{\u001b[39;00mvalue\u001b[38;5;241m.\u001b[39mshape\u001b[38;5;132;01m}\u001b[39;00m\u001b[38;5;124m.\u001b[39m\u001b[38;5;124m\"\u001b[39m\n\u001b[1;32m    707\u001b[0m         )\n\u001b[1;32m    708\u001b[0m     variable\u001b[38;5;241m.\u001b[39massign(value)\n",
      "\u001b[0;31mValueError\u001b[0m: Layer embedding_1 weight shape (10000, 4) is not compatible with provided weight shape (10000, 64)."
     ]
    }
   ],
   "source": [
    "embedding_dim = 4\n",
    "\n",
    "input_layer = Input(shape=(maxlen,))\n",
    "embedding_layer = Embedding(input_dim=max_features, output_dim=embedding_dim, input_length=maxlen, weights=[embedding_matrix], trainable=False)(input_layer)\n",
    "\n",
    "encoded = LSTM(16, return_sequences=True)(embedding_layer)\n",
    "decoded = TimeDistributed(Dense(max_features, activation='softmax'))(encoded)\n",
    "\n",
    "autoencoder = Model(inputs=input_layer, outputs=decoded)\n",
    "autoencoder.compile(optimizer='adam', loss='sparse_categorical_crossentropy')\n",
    "\n",
    "autoencoder.summary()"
   ]
  },
  {
   "cell_type": "code",
   "execution_count": null,
   "id": "b534d5c8-3b4c-490a-a850-2c299255c8b1",
   "metadata": {},
   "outputs": [],
   "source": [
    "history = autoencoder.fit(\n",
    "    X_train,\n",
    "    X_train,\n",
    "    epochs=25,\n",
    "    batch_size=256,\n",
    "    validation_split=0.2,\n",
    "    verbose=1\n",
    ")"
   ]
  },
  {
   "cell_type": "code",
   "execution_count": null,
   "id": "ea42628f-a4ab-4241-b3db-015f54c1ec8e",
   "metadata": {},
   "outputs": [],
   "source": [
    "# Plot Training and Validation Loss\n",
    "plt.plot(history.history['loss'], label='Training Loss')\n",
    "plt.plot(history.history['val_loss'], label='Validation Loss')\n",
    "plt.xlabel('Epochs')\n",
    "plt.ylabel('Loss')\n",
    "plt.legend()\n",
    "plt.title('Training and Validation Loss')\n",
    "plt.show()"
   ]
  },
  {
   "cell_type": "code",
   "execution_count": null,
   "id": "f6cead2b-18f6-410e-b0d2-4b7bd8b7e446",
   "metadata": {},
   "outputs": [],
   "source": [
    "# Display Original and Reconstructed Reviews\n",
    "# Function to convert sequences to words using IMDb word index\n",
    "word_index = imdb.get_word_index()\n",
    "index_word = {v: k for k, v in word_index.items()}\n",
    "\n",
    "def sequence_to_text(sequence):\n",
    "    return ' '.join([index_word.get(i - 3, '?') for i in sequence if i > 2])\n",
    "\n",
    "n = 1  # Number of test reviews to show\n",
    "reconstructions = autoencoder(X_test[:n])\n",
    "\n",
    "# Display Original and Reconstructed Reviews\n",
    "for i in range(n):\n",
    "    print(\"Original Review:\")\n",
    "    print(sequence_to_text(X_test[i]))\n",
    "    print(\"\\nReconstructed Review:\")\n",
    "    print(sequence_to_text(np.argmax(reconstructions[i], axis=1)))\n",
    "    print(\"\\n\" + \"=\"*50 + \"\\n\")"
   ]
  }
 ],
 "metadata": {
  "kernelspec": {
   "display_name": "Python 3 (ipykernel)",
   "language": "python",
   "name": "python3"
  },
  "language_info": {
   "codemirror_mode": {
    "name": "ipython",
    "version": 3
   },
   "file_extension": ".py",
   "mimetype": "text/x-python",
   "name": "python",
   "nbconvert_exporter": "python",
   "pygments_lexer": "ipython3",
   "version": "3.12.7"
  }
 },
 "nbformat": 4,
 "nbformat_minor": 5
}
